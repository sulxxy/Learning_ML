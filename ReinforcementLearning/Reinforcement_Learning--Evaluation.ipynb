{
 "cells": [
  {
   "cell_type": "markdown",
   "metadata": {},
   "source": [
    "# H12.1 Value functions for mazes"
   ]
  },
  {
   "cell_type": "markdown",
   "metadata": {},
   "source": [
    "## (a)"
   ]
  },
  {
   "cell_type": "code",
   "execution_count": 1,
   "metadata": {
    "collapsed": true
   },
   "outputs": [],
   "source": [
    "import numpy as np\n",
    "import matplotlib\n",
    "import matplotlib.pyplot as plt\n",
    "%matplotlib inline"
   ]
  },
  {
   "cell_type": "code",
   "execution_count": 2,
   "metadata": {},
   "outputs": [],
   "source": [
    "def read_maze(filepath):\n",
    "    out = []\n",
    "    with open(filepath) as file:\n",
    "        skip = True\n",
    "        maze_row = 0\n",
    "        maze_nr = 0\n",
    "        for line in file:\n",
    "            row = line.rstrip()\n",
    "            if (len(row) > 0):\n",
    "                if (skip):\n",
    "                    out.append([[]])\n",
    "                    maze_nr += 1\n",
    "                    maze_row += 1\n",
    "                else:\n",
    "                    out[maze_nr - 1].append([])\n",
    "                    maze_row += 1\n",
    "                skip = False\n",
    "            else:\n",
    "                maze_row = 0\n",
    "                skip = True\n",
    "            for c in row:\n",
    "                out[maze_nr - 1][maze_row - 1].append(c)\n",
    "    return np.array(out)\n",
    "\n",
    "def plot_maze(maze, ax, states=None, normed_vf=None):\n",
    "    rows, columns = maze.shape\n",
    "    im = np.ones((rows, columns, 3))\n",
    "    if states is not None and normed_vf is not None:\n",
    "        min_val = np.amin(normed_vf)\n",
    "        val_range = np.amax(normed_vf) - min_val\n",
    "        index = 0\n",
    "        normed_vf = (normed_vf - min_val)/val_range\n",
    "        for v in normed_vf:\n",
    "            row_index = states[index][1]\n",
    "            column_index = states[index][2]\n",
    "            im[row_index][column_index] = [1-v, 1, 1-v]\n",
    "            index += 1\n",
    "    for i in range(rows):\n",
    "        for j in range(columns):\n",
    "            if(maze[i][j] == '#'):\n",
    "                # wall\n",
    "                im[i][j] = [0, 0, 0]\n",
    "            elif(maze[i][j] == 'X'):\n",
    "                # reward\n",
    "                ax.text(j-0.3, i+0.3, maze[i][j])\n",
    "                im[i][j] = [0, 1, 0]\n",
    "            elif(maze[i][j] != ' '):\n",
    "                # dir\n",
    "                ax.text(j, i, maze[i][j])\n",
    "#                 im[i][j] = [1, 1, 1]\n",
    "    return im"
   ]
  },
  {
   "cell_type": "code",
   "execution_count": 3,
   "metadata": {},
   "outputs": [
    {
     "name": "stdout",
     "output_type": "stream",
     "text": [
      "(6, 20, 20)\n"
     ]
    },
    {
     "data": {
      "image/png": "[encoded data removed]",
      "text/plain": [
       "<matplotlib.figure.Figure at 0x107f8d850>"
      ]
     },
     "metadata": {},
     "output_type": "display_data"
    }
   ],
   "source": [
    "mazes = read_maze('mazes.txt')\n",
    "print mazes.shape\n",
    "\n",
    "fig, axs = plt.subplots(1, 4, figsize=(16,24))\n",
    "ax_index = 0\n",
    "for maze in mazes[:4]:\n",
    "    ax = axs[ax_index]\n",
    "    ax.set_title('Maze ' + str(ax_index+1))\n",
    "    im = plot_maze(maze, ax)\n",
    "    im = ax.imshow(im)\n",
    "    ax_index += 1\n",
    "plt.show()"
   ]
  },
  {
   "cell_type": "markdown",
   "metadata": {},
   "source": [
    "## (b)"
   ]
  },
  {
   "cell_type": "code",
   "execution_count": 4,
   "metadata": {},
   "outputs": [],
   "source": [
    "def get_states(maze):\n",
    "    rows, columns = maze.shape\n",
    "    states = []\n",
    "    index = 0\n",
    "    for i in range(rows):\n",
    "        for j in range(columns):\n",
    "            if maze[i][j] != '#':\n",
    "                states += [[index, i, j]]\n",
    "                index += 1\n",
    "    return np.array(states)\n",
    "\n",
    "def move(src, action):\n",
    "    if(action == 'right'):\n",
    "        return [src[0], src[1]+1]\n",
    "    elif (action == 'down'):\n",
    "        return [src[0] + 1, src[1]]\n",
    "    elif (action == 'left'):\n",
    "        return [src[0], src[1] - 1]\n",
    "    elif (action == 'up'):\n",
    "        return [src[0] - 1, src[1]]\n",
    "    \n",
    "def check_move_eligibility(src, dest, action):\n",
    "    after_move = move(src, action)\n",
    "    if(dest[0] == src[0] and dest[1] == src[1]):\n",
    "        if(maze[after_move[0]][after_move[1]] == '#'):\n",
    "            return 1.0\n",
    "    return (dest[0] == after_move[0] and dest[1] == after_move[1]) + 0.0\n",
    "\n",
    "def gen_transition_model(maze, states, actions):\n",
    "    S = states.shape[0]\n",
    "    A = actions.shape[0]\n",
    "    P = np.zeros((S, S, A))\n",
    "    for i in range(S):\n",
    "        src = states[i][1:3]\n",
    "        for j in range(S):\n",
    "            dest = states[j][1:3]\n",
    "            for k in range(A):\n",
    "#                 print src\n",
    "                P[i,j,k] = check_move_eligibility(src, dest, actions[k])\n",
    "    return P           \n",
    "    "
   ]
  },
  {
   "cell_type": "code",
   "execution_count": 5,
   "metadata": {},
   "outputs": [],
   "source": [
    "actions = np.array(['right', 'down', 'left', 'up'])\n",
    "P = []\n",
    "for maze in mazes[:4]:\n",
    "    states = get_states(maze)\n",
    "    P += [gen_transition_model(maze, states, actions)]"
   ]
  },
  {
   "cell_type": "markdown",
   "metadata": {},
   "source": [
    "## (c)"
   ]
  },
  {
   "cell_type": "code",
   "execution_count": 6,
   "metadata": {
    "collapsed": true
   },
   "outputs": [],
   "source": [
    "def uniform_policy(states,actions):\n",
    "    S = states.shape[0]\n",
    "    A = actions.shape[0]\n",
    "    policy = np.full((A, S), 1.0/A)\n",
    "    return policy\n",
    "\n",
    "def reward(maze, states, actions):\n",
    "    S = states.shape[0]\n",
    "    A = actions.shape[0]\n",
    "    Rewards = np.zeros((A, S))\n",
    "    for i in range(A):\n",
    "        for j in range(S):\n",
    "            row_index = states[j][1]\n",
    "            column_index = states[j][2]\n",
    "            if(maze[row_index][column_index] == 'X'):\n",
    "                Rewards[i][j] = 1\n",
    "    return Rewards\n",
    "def analytic_value_func(rewards, P, policy, discount):\n",
    "    controlled_rewards = np.sum(rewards*policy, axis=0)\n",
    "    controlled_transition = np.sum(np.transpose(P,(1,0,2)) * np.transpose(policy, (1,0)), axis=2)\n",
    "#     print controlled_transition.shape\n",
    "    B = np.dot(np.linalg.inv((np.identity(controlled_rewards.size)-discount*controlled_transition)), controlled_rewards)\n",
    "    return B"
   ]
  },
  {
   "cell_type": "code",
   "execution_count": 7,
   "metadata": {},
   "outputs": [
    {
     "data": {
      "image/png": "[encoded data removed]",
      "text/plain": [
       "<matplotlib.figure.Figure at 0x108d2b810>"
      ]
     },
     "metadata": {},
     "output_type": "display_data"
    }
   ],
   "source": [
    "discount_factor = 0.9\n",
    "fig, axs = plt.subplots(1, 4, figsize=(16,24))\n",
    "ax_index = 0\n",
    "for maze in mazes[:4]:\n",
    "    states = get_states(maze)\n",
    "    rewards = reward(maze, states, actions)\n",
    "    P = gen_transition_model(maze, states, actions)\n",
    "    policy = uniform_policy(states, actions)\n",
    "    v = analytic_value_func(rewards, P, policy, discount_factor)\n",
    "    v = np.log(v)\n",
    "    ax = axs[ax_index]\n",
    "    ax.set_title('Maze ' + str(ax_index+1))\n",
    "    im = plot_maze(maze, ax, states, v)\n",
    "    im = ax.imshow(im)\n",
    "    ax_index += 1\n",
    "#     print vf.shape\n",
    "plt.show()"
   ]
  },
  {
   "cell_type": "markdown",
   "metadata": {},
   "source": [
    "## (d)"
   ]
  },
  {
   "cell_type": "code",
   "execution_count": null,
   "metadata": {
    "collapsed": true
   },
   "outputs": [],
   "source": []
  },
  {
   "cell_type": "markdown",
   "metadata": {},
   "source": [
    "# H12.2  Find a good policy"
   ]
  },
  {
   "cell_type": "markdown",
   "metadata": {},
   "source": [
    "## (a)"
   ]
  },
  {
   "cell_type": "code",
   "execution_count": 8,
   "metadata": {},
   "outputs": [],
   "source": [
    "def direction_equal(action, dir):\n",
    "    right = (action == 'right' and dir=='>') \n",
    "    left = (action == 'left' and dir=='<') \n",
    "    up = (action == 'up' and dir=='^') \n",
    "    down = (action == 'down' and dir=='v')\n",
    "    return (right or left or up or down) + 1e-35  # avoid 0\n",
    "\n",
    "def new_policy(maze, states,actions):\n",
    "    S = states.shape[0]\n",
    "    A = actions.shape[0]\n",
    "    policy = np.zeros((A, S))\n",
    "    for i in range(A):\n",
    "        for j in range(S):\n",
    "            row_index = states[j][1]\n",
    "            column_index = states[j][2]\n",
    "            if(maze[row_index][column_index] == 'X' or maze[row_index][column_index] == ' '):\n",
    "                policy[i][j] = 1.0/A\n",
    "            else:\n",
    "                policy[i][j] = direction_equal(actions[i], maze[row_index][column_index])\n",
    "    return policy"
   ]
  },
  {
   "cell_type": "code",
   "execution_count": 9,
   "metadata": {},
   "outputs": [
    {
     "data": {
      "image/png": "[encoded data removed]",
      "text/plain": [
       "<matplotlib.figure.Figure at 0x10a2752d0>"
      ]
     },
     "metadata": {},
     "output_type": "display_data"
    }
   ],
   "source": [
    "maze = mazes[4]\n",
    "discount_factor = 0.9\n",
    "ax = plt.subplot()\n",
    "ax_index = 0\n",
    "states = get_states(maze)\n",
    "rewards = reward(maze, states, actions)\n",
    "P = gen_transition_model(maze, states, actions)\n",
    "policy = new_policy(maze, states, actions)\n",
    "v = analytic_value_func(rewards, P, policy, discount_factor)\n",
    "v = np.log(v)\n",
    "im = plot_maze(maze, ax, states, v)\n",
    "im = ax.imshow(im)\n",
    "plt.show()"
   ]
  },
  {
   "cell_type": "markdown",
   "metadata": {},
   "source": [
    "## (b)"
   ]
  },
  {
   "cell_type": "code",
   "execution_count": 10,
   "metadata": {},
   "outputs": [
    {
     "data": {
      "image/png": "[encoded data removed]",
      "text/plain": [
       "<matplotlib.figure.Figure at 0x108c866d0>"
      ]
     },
     "metadata": {},
     "output_type": "display_data"
    }
   ],
   "source": [
    "maze = mazes[5]\n",
    "discount_factor = 0.9\n",
    "ax = plt.subplot()\n",
    "ax_index = 0\n",
    "states = get_states(maze)\n",
    "rewards = reward(maze, states, actions)\n",
    "P = gen_transition_model(maze, states, actions)\n",
    "policy = new_policy(maze, states, actions)\n",
    "v = analytic_value_func(rewards, P, policy, discount_factor)\n",
    "v = np.log(v)\n",
    "im = plot_maze(maze, ax, states, v)\n",
    "im = ax.imshow(im)\n",
    "plt.show()"
   ]
  },
  {
   "cell_type": "code",
   "execution_count": null,
   "metadata": {
    "collapsed": true
   },
   "outputs": [],
   "source": []
  }
 ],
 "metadata": {
  "kernelspec": {
   "display_name": "Python 2",
   "language": "python",
   "name": "python2"
  },
  "language_info": {
   "codemirror_mode": {
    "name": "ipython",
    "version": 2
   },
   "file_extension": ".py",
   "mimetype": "text/x-python",
   "name": "python",
   "nbconvert_exporter": "python",
   "pygments_lexer": "ipython2",
   "version": "2.7.14"
  }
 },
 "nbformat": 4,
 "nbformat_minor": 2
}
