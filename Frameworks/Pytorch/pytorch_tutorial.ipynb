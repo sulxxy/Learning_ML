{
 "cells": [
  {
   "cell_type": "code",
   "execution_count": 1,
   "metadata": {},
   "outputs": [],
   "source": [
    "import torch\n",
    "import numpy as np"
   ]
  },
  {
   "cell_type": "markdown",
   "metadata": {},
   "source": [
    "# Tensors"
   ]
  },
  {
   "cell_type": "code",
   "execution_count": 2,
   "metadata": {},
   "outputs": [],
   "source": [
    "def print_tensor(x):\n",
    "    print(\"Type: {}\".format(x.type()))\n",
    "    print(\"Size: {}\".format(x.shape))\n",
    "    print(\"Values: \\n{}\".format(x))\n"
   ]
  },
  {
   "cell_type": "markdown",
   "metadata": {},
   "source": [
    "* Construct a 3x4 matrix, **uninitialized**:"
   ]
  },
  {
   "cell_type": "code",
   "execution_count": 3,
   "metadata": {},
   "outputs": [
    {
     "name": "stdout",
     "output_type": "stream",
     "text": [
      "Type: torch.FloatTensor\n",
      "Size: torch.Size([3, 4])\n",
      "Values: \n",
      "tensor([[5.3150e-37, 0.0000e+00, 3.3631e-44, 0.0000e+00],\n",
      "        [       nan, 0.0000e+00, 1.1578e+27, 1.1362e+30],\n",
      "        [7.1547e+22, 4.5828e+30, 1.2121e+04, 7.1846e+22]])\n"
     ]
    }
   ],
   "source": [
    "x = torch.empty(3, 4)\n",
    "print_tensor(x)"
   ]
  },
  {
   "cell_type": "markdown",
   "metadata": {},
   "source": [
    "Or:"
   ]
  },
  {
   "cell_type": "code",
   "execution_count": 5,
   "metadata": {},
   "outputs": [
    {
     "name": "stdout",
     "output_type": "stream",
     "text": [
      "Type: torch.FloatTensor\n",
      "Size: torch.Size([3, 4])\n",
      "Values: \n",
      "tensor([[1.1675e-37, 0.0000e+00, 0.0000e+00, 0.0000e+00],\n",
      "        [0.0000e+00, 0.0000e+00, 0.0000e+00, 0.0000e+00],\n",
      "        [0.0000e+00, 0.0000e+00, 0.0000e+00, 0.0000e+00]])\n"
     ]
    }
   ],
   "source": [
    "x = torch.Tensor(3, 4)\n",
    "print_tensor(x)"
   ]
  },
  {
   "cell_type": "markdown",
   "metadata": {},
   "source": [
    "* Construct a 3x4 matrix, filled with zero and of dtype long (**default dtype is float**):"
   ]
  },
  {
   "cell_type": "code",
   "execution_count": 6,
   "metadata": {},
   "outputs": [
    {
     "name": "stdout",
     "output_type": "stream",
     "text": [
      "Type: torch.LongTensor\n",
      "Size: torch.Size([3, 4])\n",
      "Values: \n",
      "tensor([[0, 0, 0, 0],\n",
      "        [0, 0, 0, 0],\n",
      "        [0, 0, 0, 0]])\n"
     ]
    }
   ],
   "source": [
    "x = torch.zeros(3, 4, dtype=torch.long)\n",
    "print_tensor(x)\n"
   ]
  },
  {
   "cell_type": "markdown",
   "metadata": {},
   "source": [
    "* Construct a 3x4 matrix filled with 1:"
   ]
  },
  {
   "cell_type": "code",
   "execution_count": 7,
   "metadata": {},
   "outputs": [
    {
     "name": "stdout",
     "output_type": "stream",
     "text": [
      "Type: torch.FloatTensor\n",
      "Size: torch.Size([3, 4])\n",
      "Values: \n",
      "tensor([[1., 1., 1., 1.],\n",
      "        [1., 1., 1., 1.],\n",
      "        [1., 1., 1., 1.]])\n"
     ]
    }
   ],
   "source": [
    "x = torch.ones(3, 4)\n",
    "print_tensor(x)"
   ]
  },
  {
   "cell_type": "markdown",
   "metadata": {},
   "source": [
    "* Construct a matrix from existing one, and the dtype could be override:"
   ]
  },
  {
   "cell_type": "code",
   "execution_count": 8,
   "metadata": {},
   "outputs": [
    {
     "name": "stdout",
     "output_type": "stream",
     "text": [
      "Type: torch.DoubleTensor\n",
      "Size: torch.Size([3, 4])\n",
      "Values: \n",
      "tensor([[-1.0737,  0.3816,  1.2341,  0.6274],\n",
      "        [-2.1032, -0.4746,  0.9298, -1.7381],\n",
      "        [-1.6873,  0.7534, -0.1205,  0.5039]], dtype=torch.float64)\n"
     ]
    }
   ],
   "source": [
    "y = torch.randn_like(x, dtype=torch.double)\n",
    "print_tensor(y)"
   ]
  },
  {
   "cell_type": "markdown",
   "metadata": {},
   "source": [
    "* Construct a randomly initialized matrix:"
   ]
  },
  {
   "cell_type": "code",
   "execution_count": 9,
   "metadata": {},
   "outputs": [
    {
     "name": "stdout",
     "output_type": "stream",
     "text": [
      "Type: torch.FloatTensor\n",
      "Size: torch.Size([3, 4])\n",
      "Values: \n",
      "tensor([[-0.1983, -1.2715,  0.3841, -0.5512],\n",
      "        [-1.7458, -0.4385, -1.0104,  1.0109],\n",
      "        [ 1.2072, -1.3872,  2.3415, -0.7650]])\n"
     ]
    }
   ],
   "source": [
    "x = torch.randn(3, 4)\n",
    "print_tensor(x)"
   ]
  },
  {
   "cell_type": "markdown",
   "metadata": {},
   "source": [
    "* Construct a tensor from data:"
   ]
  },
  {
   "cell_type": "code",
   "execution_count": 10,
   "metadata": {},
   "outputs": [
    {
     "name": "stdout",
     "output_type": "stream",
     "text": [
      "Type: torch.DoubleTensor\n",
      "Size: torch.Size([3])\n",
      "Values: \n",
      "tensor([1., 2., 3.], dtype=torch.float64)\n"
     ]
    }
   ],
   "source": [
    "x = torch.tensor([1, 2, 3], dtype=torch.double)\n",
    "print_tensor(x)"
   ]
  },
  {
   "cell_type": "markdown",
   "metadata": {},
   "source": [
    "# Operations"
   ]
  },
  {
   "cell_type": "markdown",
   "metadata": {},
   "source": [
    "* Addition:"
   ]
  },
  {
   "cell_type": "code",
   "execution_count": 11,
   "metadata": {},
   "outputs": [
    {
     "name": "stdout",
     "output_type": "stream",
     "text": [
      "Type: torch.FloatTensor\n",
      "Size: torch.Size([3, 4])\n",
      "Values: \n",
      "tensor([[-0.3894,  0.6480, -0.4915,  2.0711],\n",
      "        [-0.1317, -1.4626,  2.0889,  0.5542],\n",
      "        [-2.6885,  1.3449, -0.6045,  3.2349]])\n"
     ]
    }
   ],
   "source": [
    "x = torch.randn(3, 4)\n",
    "y = torch.randn(3, 4)\n",
    "z = torch.add(x, y)\n",
    "print_tensor(z)"
   ]
  },
  {
   "cell_type": "markdown",
   "metadata": {},
   "source": [
    "Or:"
   ]
  },
  {
   "cell_type": "code",
   "execution_count": 12,
   "metadata": {},
   "outputs": [
    {
     "name": "stdout",
     "output_type": "stream",
     "text": [
      "Type: torch.FloatTensor\n",
      "Size: torch.Size([3, 4])\n",
      "Values: \n",
      "tensor([[-0.3894,  0.6480, -0.4915,  2.0711],\n",
      "        [-0.1317, -1.4626,  2.0889,  0.5542],\n",
      "        [-2.6885,  1.3449, -0.6045,  3.2349]])\n"
     ]
    }
   ],
   "source": [
    "print_tensor(x+y)"
   ]
  },
  {
   "cell_type": "markdown",
   "metadata": {},
   "source": [
    "Or:"
   ]
  },
  {
   "cell_type": "code",
   "execution_count": 13,
   "metadata": {},
   "outputs": [
    {
     "name": "stdout",
     "output_type": "stream",
     "text": [
      "Type: torch.FloatTensor\n",
      "Size: torch.Size([3, 4])\n",
      "Values: \n",
      "tensor([[-0.3894,  0.6480, -0.4915,  2.0711],\n",
      "        [-0.1317, -1.4626,  2.0889,  0.5542],\n",
      "        [-2.6885,  1.3449, -0.6045,  3.2349]])\n"
     ]
    }
   ],
   "source": [
    "res = torch.empty(3, 4)\n",
    "torch.add(x, y, out=res)\n",
    "print_tensor(res)"
   ]
  },
  {
   "cell_type": "markdown",
   "metadata": {},
   "source": [
    "Or:"
   ]
  },
  {
   "cell_type": "code",
   "execution_count": 14,
   "metadata": {},
   "outputs": [
    {
     "name": "stdout",
     "output_type": "stream",
     "text": [
      "Type: torch.FloatTensor\n",
      "Size: torch.Size([3, 4])\n",
      "Values: \n",
      "tensor([[-0.3894,  0.6480, -0.4915,  2.0711],\n",
      "        [-0.1317, -1.4626,  2.0889,  0.5542],\n",
      "        [-2.6885,  1.3449, -0.6045,  3.2349]])\n"
     ]
    }
   ],
   "source": [
    "y.add_(x)\n",
    "print_tensor(y)"
   ]
  },
  {
   "cell_type": "markdown",
   "metadata": {},
   "source": [
    "**Note**: Any operation that mutates a tensor in-place is post-fixed with an `_`. For example: `x.copy_(y)`, `x.t_()`, will change `x`."
   ]
  },
  {
   "cell_type": "markdown",
   "metadata": {},
   "source": [
    "* Reshape"
   ]
  },
  {
   "cell_type": "code",
   "execution_count": 15,
   "metadata": {},
   "outputs": [
    {
     "name": "stdout",
     "output_type": "stream",
     "text": [
      "Type: torch.FloatTensor\n",
      "Size: torch.Size([3, 4])\n",
      "Values: \n",
      "tensor([[ 1.2844, -1.3509, -0.1249,  0.0427],\n",
      "        [-0.2797, -0.1632,  0.7218, -0.3860],\n",
      "        [ 1.6910, -0.9057,  2.1930,  1.1108]])\n",
      "Type: torch.FloatTensor\n",
      "Size: torch.Size([4, 3])\n",
      "Values: \n",
      "tensor([[ 1.2844, -1.3509, -0.1249],\n",
      "        [ 0.0427, -0.2797, -0.1632],\n",
      "        [ 0.7218, -0.3860,  1.6910],\n",
      "        [-0.9057,  2.1930,  1.1108]])\n",
      "Type: torch.FloatTensor\n",
      "Size: torch.Size([6, 2])\n",
      "Values: \n",
      "tensor([[ 1.2844, -1.3509],\n",
      "        [-0.1249,  0.0427],\n",
      "        [-0.2797, -0.1632],\n",
      "        [ 0.7218, -0.3860],\n",
      "        [ 1.6910, -0.9057],\n",
      "        [ 2.1930,  1.1108]])\n"
     ]
    }
   ],
   "source": [
    "x = torch.randn(3, 4)\n",
    "print_tensor(x)\n",
    "y = x.view(4, 3)\n",
    "z = x.view(6, -1) # the size -1 is inferred from other dim\n",
    "print_tensor(y)\n",
    "print_tensor(z)"
   ]
  },
  {
   "cell_type": "markdown",
   "metadata": {},
   "source": [
    "# Numpy Bridge"
   ]
  },
  {
   "cell_type": "markdown",
   "metadata": {},
   "source": [
    "* Convert a Torch Tensor to a Numpy Array"
   ]
  },
  {
   "cell_type": "code",
   "execution_count": 16,
   "metadata": {},
   "outputs": [
    {
     "name": "stdout",
     "output_type": "stream",
     "text": [
      "Type: torch.FloatTensor\n",
      "Size: torch.Size([3, 4])\n",
      "Values: \n",
      "tensor([[ 0.1591, -1.0089,  0.2497,  0.6450],\n",
      "        [-1.7070, -0.3038, -0.5330,  1.0889],\n",
      "        [ 0.2026, -0.2747,  1.1482, -0.4997]])\n",
      "[[ 0.15912676 -1.00890338  0.24970655  0.64500386]\n",
      " [-1.70702636 -0.30384415 -0.53302473  1.08886623]\n",
      " [ 0.20256519 -0.27467865  1.14816725 -0.49972969]]\n"
     ]
    }
   ],
   "source": [
    "x = torch.randn(3, 4)\n",
    "print_tensor(x)\n",
    "y = x.numpy()\n",
    "print(y)"
   ]
  },
  {
   "cell_type": "markdown",
   "metadata": {},
   "source": [
    "Note that `y` is a reference of `x`, i.e., if the values of either changes, the other will change"
   ]
  },
  {
   "cell_type": "code",
   "execution_count": 17,
   "metadata": {},
   "outputs": [
    {
     "name": "stdout",
     "output_type": "stream",
     "text": [
      "Type: torch.FloatTensor\n",
      "Size: torch.Size([3, 4])\n",
      "Values: \n",
      "tensor([[ 1.1591, -0.0089,  1.2497,  1.6450],\n",
      "        [-0.7070,  0.6962,  0.4670,  2.0889],\n",
      "        [ 1.2026,  0.7253,  2.1482,  0.5003]])\n",
      "[[ 1.15912676 -0.00890338  1.24970651  1.6450038 ]\n",
      " [-0.70702636  0.69615585  0.46697527  2.08886623]\n",
      " [ 1.20256519  0.72532135  2.14816713  0.50027031]]\n",
      "[[ 2.15912676  0.99109662  2.24970651  2.6450038 ]\n",
      " [ 0.29297364  1.69615579  1.46697521  3.08886623]\n",
      " [ 2.20256519  1.72532129  3.14816713  1.50027037]]\n",
      "Type: torch.FloatTensor\n",
      "Size: torch.Size([3, 4])\n",
      "Values: \n",
      "tensor([[2.1591, 0.9911, 2.2497, 2.6450],\n",
      "        [0.2930, 1.6962, 1.4670, 3.0889],\n",
      "        [2.2026, 1.7253, 3.1482, 1.5003]])\n"
     ]
    }
   ],
   "source": [
    "x.add_(1)\n",
    "print_tensor(x)\n",
    "print(y)\n",
    "np.add(y, 1, out=y)\n",
    "print(y)\n",
    "print_tensor(x)"
   ]
  },
  {
   "cell_type": "markdown",
   "metadata": {},
   "source": [
    "* Convert a Numpy Array to a Torch Tensor"
   ]
  },
  {
   "cell_type": "code",
   "execution_count": 18,
   "metadata": {},
   "outputs": [
    {
     "name": "stdout",
     "output_type": "stream",
     "text": [
      "[[-0.32459293  1.14189097  0.3436654   1.18843369]\n",
      " [-1.38305871 -0.35803183 -0.56122752 -1.51309858]\n",
      " [-0.18600229 -1.10190765 -0.04749221 -0.25770508]]\n",
      "Type: torch.DoubleTensor\n",
      "Size: torch.Size([3, 4])\n",
      "Values: \n",
      "tensor([[-0.3246,  1.1419,  0.3437,  1.1884],\n",
      "        [-1.3831, -0.3580, -0.5612, -1.5131],\n",
      "        [-0.1860, -1.1019, -0.0475, -0.2577]], dtype=torch.float64)\n"
     ]
    }
   ],
   "source": [
    "x = np.random.randn(3, 4)\n",
    "print(x)\n",
    "y = torch.from_numpy(x)\n",
    "print_tensor(y)"
   ]
  },
  {
   "cell_type": "markdown",
   "metadata": {},
   "source": [
    "Similarly, `y` directly refers `x`, if one of them changes, the other will also change"
   ]
  },
  {
   "cell_type": "code",
   "execution_count": 19,
   "metadata": {},
   "outputs": [
    {
     "name": "stdout",
     "output_type": "stream",
     "text": [
      "Type: torch.DoubleTensor\n",
      "Size: torch.Size([3, 4])\n",
      "Values: \n",
      "tensor([[ 0.6754,  2.1419,  1.3437,  2.1884],\n",
      "        [-0.3831,  0.6420,  0.4388, -0.5131],\n",
      "        [ 0.8140, -0.1019,  0.9525,  0.7423]], dtype=torch.float64)\n",
      "[[ 0.67540707  2.14189097  1.3436654   2.18843369]\n",
      " [-0.38305871  0.64196817  0.43877248 -0.51309858]\n",
      " [ 0.81399771 -0.10190765  0.95250779  0.74229492]]\n",
      "[[ 1.67540707  3.14189097  2.3436654   3.18843369]\n",
      " [ 0.61694129  1.64196817  1.43877248  0.48690142]\n",
      " [ 1.81399771  0.89809235  1.95250779  1.74229492]]\n",
      "Type: torch.DoubleTensor\n",
      "Size: torch.Size([3, 4])\n",
      "Values: \n",
      "tensor([[1.6754, 3.1419, 2.3437, 3.1884],\n",
      "        [0.6169, 1.6420, 1.4388, 0.4869],\n",
      "        [1.8140, 0.8981, 1.9525, 1.7423]], dtype=torch.float64)\n"
     ]
    }
   ],
   "source": [
    "y.add_(1)\n",
    "print_tensor(y)\n",
    "print(x)\n",
    "np.add(x, 1, out=x)\n",
    "print(x)\n",
    "print_tensor(y)"
   ]
  },
  {
   "cell_type": "markdown",
   "metadata": {},
   "source": [
    "# CUDA"
   ]
  },
  {
   "cell_type": "code",
   "execution_count": 4,
   "metadata": {},
   "outputs": [
    {
     "name": "stdout",
     "output_type": "stream",
     "text": [
      "True\n",
      "Type: torch.FloatTensor\n",
      "Type: torch.cuda.FloatTensor\n"
     ]
    }
   ],
   "source": [
    "print(torch.cuda.is_available())\n",
    "x = torch.Tensor(3, 4).to(\"cpu\")\n",
    "print(\"Type: {}\".format(x.type()))\n",
    "x = torch.Tensor(3, 4).to(\"cuda\")\n",
    "print(\"Type: {}\".format(x.type()))"
   ]
  },
  {
   "cell_type": "markdown",
   "metadata": {},
   "source": [
    "# Automatic Differentiation"
   ]
  },
  {
   "cell_type": "code",
   "execution_count": 29,
   "metadata": {},
   "outputs": [
    {
     "name": "stdout",
     "output_type": "stream",
     "text": [
      "Type: torch.FloatTensor\n",
      "Size: torch.Size([3, 4])\n",
      "Values: \n",
      "tensor([[1., 1., 1., 1.],\n",
      "        [1., 1., 1., 1.],\n",
      "        [1., 1., 1., 1.]], requires_grad=True)\n",
      "Type: torch.FloatTensor\n",
      "Size: torch.Size([3, 4])\n",
      "Values: \n",
      "tensor([[3., 3., 3., 3.],\n",
      "        [3., 3., 3., 3.],\n",
      "        [3., 3., 3., 3.]], grad_fn=<AddBackward0>)\n",
      "Type: torch.FloatTensor\n",
      "Size: torch.Size([3, 4])\n",
      "Values: \n",
      "tensor([[27., 27., 27., 27.],\n",
      "        [27., 27., 27., 27.],\n",
      "        [27., 27., 27., 27.]], grad_fn=<MulBackward0>)\n",
      "Type: torch.FloatTensor\n",
      "Size: torch.Size([])\n",
      "Values: \n",
      "27.0\n"
     ]
    }
   ],
   "source": [
    "x = torch.ones(3, 4, requires_grad=True)\n",
    "print_tensor(x)\n",
    "y = x + 2\n",
    "print_tensor(y)\n",
    "z = y * y * 3\n",
    "out = z.mean()\n",
    "print_tensor(z)\n",
    "print_tensor(out)"
   ]
  },
  {
   "cell_type": "markdown",
   "metadata": {},
   "source": [
    "What we were doing is: \n",
    "$$\\mathbf{z} = (\\mathbf{x}+2)*(\\mathbf{x}+2)*3$$\n",
    "As a result:\n",
    "$$\\frac{\\partial{\\mathbf{z}}}{\\partial{\\mathbf{x}}} = 6(\\mathbf{x}+2)$$"
   ]
  },
  {
   "cell_type": "code",
   "execution_count": 31,
   "metadata": {},
   "outputs": [
    {
     "name": "stdout",
     "output_type": "stream",
     "text": [
      "Type: torch.FloatTensor\n",
      "Size: torch.Size([3, 4])\n",
      "Values: \n",
      "tensor([[18., 18., 18., 18.],\n",
      "        [18., 18., 18., 18.],\n",
      "        [18., 18., 18., 18.]], grad_fn=<MulBackward0>)\n"
     ]
    }
   ],
   "source": [
    "print_tensor(6*(x+2))"
   ]
  },
  {
   "cell_type": "markdown",
   "metadata": {},
   "source": [
    "Alternatively, we can use `backward()` in Pytorch:"
   ]
  },
  {
   "cell_type": "code",
   "execution_count": 30,
   "metadata": {},
   "outputs": [
    {
     "name": "stdout",
     "output_type": "stream",
     "text": [
      "Type: torch.FloatTensor\n",
      "Size: torch.Size([3, 4])\n",
      "Values: \n",
      "tensor([[18., 18., 18., 18.],\n",
      "        [18., 18., 18., 18.],\n",
      "        [18., 18., 18., 18.]])\n"
     ]
    }
   ],
   "source": [
    "z.backward(x)\n",
    "print_tensor(x.grad)"
   ]
  },
  {
   "cell_type": "markdown",
   "metadata": {},
   "source": [
    "# Neural Networks"
   ]
  },
  {
   "cell_type": "code",
   "execution_count": 33,
   "metadata": {},
   "outputs": [],
   "source": [
    "import torch.nn as nn\n",
    "import torch.nn.functional as F"
   ]
  },
  {
   "cell_type": "markdown",
   "metadata": {},
   "source": [
    "## Define the network"
   ]
  },
  {
   "cell_type": "code",
   "execution_count": 43,
   "metadata": {},
   "outputs": [
    {
     "name": "stdout",
     "output_type": "stream",
     "text": [
      "Net(\n",
      "  (conv1): Conv2d(1, 6, kernel_size=(5, 5), stride=(1, 1))\n",
      "  (conv2): Conv2d(6, 16, kernel_size=(5, 5), stride=(1, 1))\n",
      "  (fc1): Linear(in_features=400, out_features=120, bias=True)\n",
      "  (fc2): Linear(in_features=120, out_features=84, bias=True)\n",
      "  (fc3): Linear(in_features=84, out_features=10, bias=True)\n",
      ")\n",
      "10\n",
      "torch.Size([6, 1, 5, 5])\n"
     ]
    }
   ],
   "source": [
    "class Net(nn.Module):\n",
    "    \n",
    "    def __init__(self):\n",
    "        super(Net, self).__init__()\n",
    "        self.conv1 = nn.Conv2d(1, 6, 5)\n",
    "        self.conv2 = nn.Conv2d(6, 16, 5)\n",
    "        self.fc1 = nn.Linear(16*5*5, 120)\n",
    "        self.fc2 = nn.Linear(120, 84)\n",
    "        self.fc3 = nn.Linear(84, 10)\n",
    "        \n",
    "    def forward(self, x):\n",
    "        x = F.max_pool2d(F.relu(self.conv1(x)), (2, 2))\n",
    "        x = F.max_pool2d(F.relu(self.conv2(x)),  2)\n",
    "        x = x.view(-1, self.num_flat_features(x))\n",
    "        x = F.relu(self.fc1(x))\n",
    "        x = F.relu(self.fc2(x))\n",
    "        x = self.fc3(x)\n",
    "        return x\n",
    "    \n",
    "    def num_flat_features(self, x):\n",
    "        size = x.size()[1:]\n",
    "        num_features = 1\n",
    "        for s in size:\n",
    "            num_features *= s\n",
    "        return num_features\n",
    "    \n",
    "net = Net()\n",
    "print(net)\n",
    "\n",
    "params = list(net.parameters())\n",
    "print(len(params))\n",
    "print(params[0].size())  # conv1's .weight"
   ]
  },
  {
   "cell_type": "markdown",
   "metadata": {},
   "source": [
    "## Loss function"
   ]
  },
  {
   "cell_type": "code",
   "execution_count": 53,
   "metadata": {},
   "outputs": [
    {
     "name": "stdout",
     "output_type": "stream",
     "text": [
      "Type: torch.FloatTensor\n",
      "Size: torch.Size([1, 10])\n",
      "Values: \n",
      "tensor([[ 0.0899,  0.0004, -0.0706,  0.0298, -0.0630, -0.0761,  0.0394,  0.0406,\n",
      "          0.0168, -0.0437]], grad_fn=<AddmmBackward>)\n",
      "Type: torch.FloatTensor\n",
      "Size: torch.Size([1, 10])\n",
      "Values: \n",
      "tensor([[-0.8335, -1.2581, -0.7336, -2.0533,  1.3898, -0.4556,  1.7538, -0.5374,\n",
      "          1.4627, -0.9481]])\n",
      "Type: torch.FloatTensor\n",
      "Size: torch.Size([])\n",
      "Values: \n",
      "1.5652341842651367\n"
     ]
    }
   ],
   "source": [
    "input = torch.randn(1, 1, 32, 32)\n",
    "out = net(input)\n",
    "labels = torch.randn(10)\n",
    "labels = labels.view(1, -1)\n",
    "print_tensor(out)\n",
    "print_tensor(labels)\n",
    "\n",
    "criterion = nn.MSELoss()\n",
    "loss = criterion(out, labels)\n",
    "print_tensor(loss)"
   ]
  },
  {
   "cell_type": "markdown",
   "metadata": {},
   "source": [
    "## Backprop"
   ]
  },
  {
   "cell_type": "code",
   "execution_count": 54,
   "metadata": {},
   "outputs": [
    {
     "name": "stdout",
     "output_type": "stream",
     "text": [
      "conv1.bias.grad after backward\n",
      "tensor([-0.0245, -0.0147, -0.0031,  0.0313, -0.0037,  0.0147])\n"
     ]
    }
   ],
   "source": [
    "net.zero_grad()  # zeroes the gradient buffers of all parameters\n",
    "\n",
    "loss.backward()\n",
    "\n",
    "print('conv1.bias.grad after backward')\n",
    "print(net.conv1.bias.grad)"
   ]
  },
  {
   "cell_type": "markdown",
   "metadata": {},
   "source": [
    "## Optimizer"
   ]
  },
  {
   "cell_type": "code",
   "execution_count": 56,
   "metadata": {},
   "outputs": [],
   "source": [
    "import torch.optim as optim\n",
    "\n",
    "# create your optimizer\n",
    "optimizer = optim.SGD(net.parameters(), lr=0.01)\n",
    "\n",
    "# in your training loop:\n",
    "optimizer.zero_grad()   # zero the gradient buffers\n",
    "output = net(input)\n",
    "loss = criterion(output, labels)\n",
    "loss.backward()\n",
    "optimizer.step()    # Does the update"
   ]
  },
  {
   "cell_type": "markdown",
   "metadata": {},
   "source": [
    "P.S. callable object in Python"
   ]
  },
  {
   "cell_type": "code",
   "execution_count": 48,
   "metadata": {},
   "outputs": [
    {
     "name": "stdout",
     "output_type": "stream",
     "text": [
      "12\n"
     ]
    }
   ],
   "source": [
    "class Test():\n",
    "    def __init__(self):\n",
    "        self.x = 3\n",
    "    def linear(self, w):\n",
    "        self.x *= w\n",
    "        \n",
    "    def __call__(self, w):\n",
    "        self.linear(w)\n",
    "\n",
    "t = Test()\n",
    "t(4)\n",
    "print(t.x)"
   ]
  },
  {
   "cell_type": "code",
   "execution_count": null,
   "metadata": {},
   "outputs": [],
   "source": []
  }
 ],
 "metadata": {
  "kernelspec": {
   "display_name": "Python 3",
   "language": "python",
   "name": "python3"
  },
  "language_info": {
   "codemirror_mode": {
    "name": "ipython",
    "version": 3
   },
   "file_extension": ".py",
   "mimetype": "text/x-python",
   "name": "python",
   "nbconvert_exporter": "python",
   "pygments_lexer": "ipython3",
   "version": "3.6.7"
  }
 },
 "nbformat": 4,
 "nbformat_minor": 2
}
