{
 "cells": [
  {
   "cell_type": "markdown",
   "metadata": {},
   "source": [
    "# Fisher Linear Discriminant\n",
    "\n",
    "In this exercise, you will apply Fisher Linear Discriminant as described in Chapter 3.8.2 of Duda et al. on the UCI Abalone dataset. A description of the dataset is given at the page https://archive.ics.uci.edu/ml/datasets/Abalone. The following two methods are provided for your convenience: \n",
    "\n",
    "\n",
    "* **`utils.Abalone.__init__(self)`** reads the Abalone data and instantiates three data matrices of size (1528, 7), (1307, 7), and (1342, 7) corresponding to the three classes in the dataset: *male (M)*, *female (F)*, and *infant (I)*.\n",
    "\n",
    "\n",
    "* **`utils.Abalone.plot(self,w)`** produces a histogram of the data when projected onto a vector `w`, and where each class is shown in a different color.\n",
    "\n",
    "\n",
    "Sample code that makes use of these two methods is given below. It loads the data, looks at the shape of instantiated matrices, and plots various projections of the data: (1) projection on the first dimension of the data, and (2) projection on a random direction."
   ]
  },
  {
   "cell_type": "code",
   "execution_count": 1,
   "metadata": {},
   "outputs": [
    {
     "name": "stdout",
     "output_type": "stream",
     "text": [
      "((1528, 7), (1307, 7), (1342, 7))\n"
     ]
    },
    {
     "data": {
      "image/png": "[encoded data removed]",
      "text/plain": [
       "<matplotlib.figure.Figure at 0x10d048f50>"
      ]
     },
     "metadata": {},
     "output_type": "display_data"
    },
    {
     "data": {
      "image/png": "[encoded data removed]",
      "text/plain": [
       "<matplotlib.figure.Figure at 0x10e92c750>"
      ]
     },
     "metadata": {},
     "output_type": "display_data"
    }
   ],
   "source": [
    "%matplotlib inline\n",
    "import utils,numpy\n",
    "\n",
    "# Load the data\n",
    "abalone = utils.Abalone()\n",
    "\n",
    "# Print dataset size for each class\n",
    "print(abalone.M.shape,abalone.F.shape, abalone.I.shape)\n",
    "\n",
    "# Project data on the first dimension\n",
    "w1 = numpy.array([1,0,0,0,0,0,0])\n",
    "abalone.plot(w1,'projection on the first dimension')\n",
    "\n",
    "# Project data on a random direction\n",
    "w2 = numpy.random.normal(0,1,[7])\n",
    "w2 /= (w2**2).sum()**.5\n",
    "abalone.plot(w2,'projection on a random direction')"
   ]
  },
  {
   "cell_type": "markdown",
   "metadata": {},
   "source": [
    "## Implementation (30 P)\n",
    "\n",
    "* **Create a method `w = fisher(X1,X2)` that takes as input the data for two classes and returns the Fisher linear discriminant.**\n",
    "\n",
    "\n",
    "* **Create a method `J(X1,X2,w)` that evaluates the objective defined in Equation 96 of Duda et al. for an arbitrary projection vector `w`.**\n",
    "\n",
    "\n",
    "* **Create a method `z = phi(X)` that returns a quadratic expansion for each data point `x` in the dataset. Such expansion consists of the vector `x` itself, to which we concatenate the vector of all pairwise products between elements of `x`.** In other words, letting $x = (x_1,\\dots,x_d)$ denote the $d$-dimensional data point, the quadratic expansion for this data point is a $d \\cdot (d+3)/2$ dimensional vector given by $\\phi(x) = (x_i)_{1 \\leq i \\leq d} \\cup (x_i x_j)_{1 \\leq i \\leq j \\leq d}$. For example, the quadratic expansion for $d=2$ is $(x_1,x_2,x_1^2,x_2^2,x_1 x_2)$."
   ]
  },
  {
   "cell_type": "code",
   "execution_count": 111,
   "metadata": {},
   "outputs": [],
   "source": [
    "def S_Bet(X1, X2):\n",
    "    # X1: [D, N]\n",
    "    # X2: [D, N]\n",
    "    X1_mean = numpy.mean(X1, axis=1).reshape(X1.shape[0], 1)\n",
    "    X2_mean = numpy.mean(X2, axis=1).reshape(X2.shape[0], 1)\n",
    "    return (X1_mean-X2_mean).dot((X1_mean-X2_mean).T)\n",
    "\n",
    "def S_Within(X1, X2):\n",
    "    # X1: [D, N]\n",
    "    # X2: [D, N]\n",
    "    X1_mean = numpy.mean(X1, axis=1).reshape(X1.shape[0], 1)\n",
    "    X2_mean = numpy.mean(X2, axis=1).reshape(X2.shape[0], 1)\n",
    "    S_W = (X1-X1_mean).dot((X1-X1_mean).T) + (X2-X2_mean).dot((X2-X2_mean).T)\n",
    "    return S_W\n",
    "    \n",
    "def fisher(X1, X2):\n",
    "    # X1: [D, N]\n",
    "    # X2: [D, N]\n",
    "    X1_mean = numpy.mean(X1, axis=1).reshape(X1.shape[0], 1)\n",
    "    X2_mean = numpy.mean(X2, axis=1).reshape(X2.shape[0], 1)\n",
    "    S_W = S_Within(X1, X2)\n",
    "    w = numpy.linalg.inv(S_W).dot(X1_mean - X2_mean)\n",
    "    return w\n",
    "\n",
    "def J(X1, X2, w):\n",
    "    # X1: [D, N]\n",
    "    # X2: [D, N]\n",
    "    # w: [D, 1]\n",
    "    X1_mean = numpy.mean(X1, axis=1).reshape(X1.shape[0], 1)\n",
    "    X2_mean = numpy.mean(X2, axis=1).reshape(X2.shape[0], 1)\n",
    "    S_B = S_Bet(X1, X2)\n",
    "    S_W = S_Within(X1, X2)\n",
    "    J = ((w.T.dot(S_B)).dot(w))/((w.T.dot(S_W)).dot(w))\n",
    "    return J[0][0]\n",
    "\n",
    "def phi(X):\n",
    "    # X: [D, N]\n",
    "    # return: [D', N]\n",
    "    expended_X = None\n",
    "    for i in range(X.shape[1]):\n",
    "        cur_point = X[:, i].reshape(X.shape[0], 1)\n",
    "#         x1 = numpy.triu(cur_point.T.dot(cur_point))\n",
    "        x1 = numpy.triu(cur_point.dot(cur_point.T))[numpy.triu_indices(cur_point.shape[0])]\n",
    "        x1.reshape(x1.shape[0], 1)\n",
    "        x_new = numpy.concatenate((X[:, i], x1), axis = 0)\n",
    "        x_new.reshape(x_new.shape[0], 1)\n",
    "        if(i == 0):\n",
    "            expended_X = numpy.array([x_new])\n",
    "        else:\n",
    "            expended_X = numpy.vstack((expended_X, [x_new]))\n",
    "    return expended_X.T\n",
    "    "
   ]
  },
  {
   "cell_type": "markdown",
   "metadata": {},
   "source": [
    "## Analysis (20 P)\n",
    "\n",
    "* **Print the value of `J(w)` for each discriminated pair of classes (M/F, M/I, F/I), and for several values of `w`:**\n",
    "\n",
    "  * `w` is a vector that projects the data on the each dimension of the data.\n",
    "  * `w` is the difference between the mean vectors of the two classes.\n",
    "  * `w` is the difference between the mean vectors of the two classes (after quadratic expansion of the data).\n",
    "  * `w` is the Fisher linear discriminant.\n",
    "  * `w` is the Fisher linear discriminant (after quadratic expansion of the data).\n",
    "\n",
    "\n",
    "* **For the simple Fisher linear discriminant, plot a histogram of the projected data for each discriminated pair of classes using the function `utils.Abalone.plot()`.**"
   ]
  },
  {
   "cell_type": "code",
   "execution_count": 112,
   "metadata": {},
   "outputs": [
    {
     "name": "stdout",
     "output_type": "stream",
     "text": [
      "---------------------------------------------------\n",
      "Dimension0:\n",
      "  * MF: 0.00001\n",
      "  * MI: 0.00056\n",
      "  * FI: 0.00090\n",
      "Dimension1:\n",
      "  * MF: 0.00001\n",
      "  * MI: 0.00060\n",
      "  * FI: 0.00097\n",
      "Dimension2:\n",
      "  * MF: 0.00001\n",
      "  * MI: 0.00058\n",
      "  * FI: 0.00072\n",
      "Dimension3:\n",
      "  * MF: 0.00001\n",
      "  * MI: 0.00070\n",
      "  * FI: 0.00108\n",
      "Dimension4:\n",
      "  * MF: 0.00000\n",
      "  * MI: 0.00060\n",
      "  * FI: 0.00088\n",
      "Dimension5:\n",
      "  * MF: 0.00001\n",
      "  * MI: 0.00069\n",
      "  * FI: 0.00109\n",
      "Dimension6:\n",
      "  * MF: 0.00001\n",
      "  * MI: 0.00066\n",
      "  * FI: 0.00100\n",
      "---------------------------------------------------\n",
      "Means Linear:\n",
      "  * MF: 0.00001\n",
      "  * MI: 0.00070\n",
      "  * FI: 0.00108\n",
      "Means Quadratic:\n",
      "  * MF: 0.00000\n",
      "  * MI: 0.00054\n",
      "  * FI: 0.00083\n",
      "---------------------------------------------------\n",
      "Fisher Linear:\n",
      "  * MF: 0.00004\n",
      "  * MI: 0.00075\n",
      "  * FI: 0.00120\n",
      "Fisher Quadratic:\n",
      "  * MF: 0.00005\n",
      "  * MI: 0.00101\n",
      "  * FI: 0.00154\n"
     ]
    },
    {
     "data": {
      "image/png": "[encoded data removed]",
      "text/plain": [
       "<matplotlib.figure.Figure at 0x10b698150>"
      ]
     },
     "metadata": {},
     "output_type": "display_data"
    },
    {
     "data": {
      "image/png": "[encoded data removed]",
      "text/plain": [
       "<matplotlib.figure.Figure at 0x10dc2ee10>"
      ]
     },
     "metadata": {},
     "output_type": "display_data"
    },
    {
     "data": {
      "image/png": "[encoded data removed]",
      "text/plain": [
       "<matplotlib.figure.Figure at 0x10ebfed90>"
      ]
     },
     "metadata": {},
     "output_type": "display_data"
    }
   ],
   "source": [
    "male_data = abalone.M.T\n",
    "female_data = abalone.F.T\n",
    "infant_data = abalone.I.T\n",
    "\n",
    "expended_male_data = phi(abalone.M.T)\n",
    "expended_female_data = phi(abalone.F.T)\n",
    "expended_infant_data = phi(abalone.I.T)\n",
    "\n",
    "male_mean = numpy.mean(male_data, axis=1).reshape(male_data.shape[0], 1)\n",
    "female_mean = numpy.mean(female_data, axis=1).reshape(female_data.shape[0], 1)\n",
    "infant_mean = numpy.mean(infant_data, axis=1).reshape(infant_data.shape[0], 1)\n",
    "\n",
    "expended_male_mean = numpy.mean(expended_male_data, axis=1).reshape(expended_male_data.shape[0], 1)\n",
    "expended_female_mean = numpy.mean(expended_female_data, axis=1).reshape(expended_female_data.shape[0], 1)\n",
    "expended_infant_mean = numpy.mean(expended_infant_data, axis=1).reshape(expended_infant_data.shape[0], 1)\n",
    "\n",
    "#w is a vector that projects the data on the each dimension of the data.\n",
    "w_dim0 = numpy.array([1, 0, 0, 0, 0, 0, 0]).reshape(7, 1)\n",
    "w_dim1 = numpy.array([0, 1, 0, 0, 0, 0, 0]).reshape(7, 1)\n",
    "w_dim2 = numpy.array([0, 0, 1, 0, 0, 0, 0]).reshape(7, 1)\n",
    "w_dim3 = numpy.array([0, 0, 0, 1, 0, 0, 0]).reshape(7, 1)\n",
    "w_dim4 = numpy.array([0, 0, 0, 0, 1, 0, 0]).reshape(7, 1)\n",
    "w_dim5 = numpy.array([0, 0, 0, 0, 0, 1, 0]).reshape(7, 1)\n",
    "w_dim6 = numpy.array([0, 0, 0, 0, 0, 0, 1]).reshape(7, 1)\n",
    "\n",
    "# w is the difference between the mean vectors of the two classes.\n",
    "w_mean_diff_MI = male_mean - infant_mean\n",
    "w_mean_diff_MF = male_mean - female_mean\n",
    "w_mean_diff_FI = female_mean - infant_mean\n",
    "\n",
    "# w is the difference between the mean vectors of the two classes, expended\n",
    "expended_w_mean_diff_MI = expended_male_mean - expended_infant_mean\n",
    "expended_w_mean_diff_MF = expended_male_mean - expended_female_mean\n",
    "expended_w_mean_diff_FI = expended_female_mean - expended_infant_mean\n",
    "\n",
    "\n",
    "# w is the Fisher linear discriminant.\n",
    "w_fisher_MI = fisher(male_data, infant_data)\n",
    "w_fisher_MF = fisher(male_data, female_data)\n",
    "w_fisher_FI = fisher(female_data, infant_data)\n",
    "\n",
    "# w is the Fisher linear discriminant, expended\n",
    "expended_w_fisher_MI = fisher(expended_male_data, expended_infant_data)\n",
    "expended_w_fisher_MF = fisher(expended_male_data, expended_female_data)\n",
    "expended_w_fisher_FI = fisher(expended_female_data, expended_infant_data)\n",
    "\n",
    "\n",
    "print \"---------------------------------------------------\"\n",
    "print \"Dimension0:\"\n",
    "print \"  * MF: %.5f\" % J(w_dim0.T.dot(male_data), w_dim0.T.dot(female_data), w_dim0.T.dot(w_dim0))\n",
    "print \"  * MI: %.5f\" % J(w_dim0.T.dot(male_data), w_dim0.T.dot(infant_data), w_dim0.T.dot(w_dim0))\n",
    "print \"  * FI: %.5f\" % J(w_dim0.T.dot(female_data), w_dim0.T.dot(infant_data), w_dim0.T.dot(w_dim0))\n",
    "\n",
    "print \"Dimension1:\"\n",
    "print \"  * MF: %.5f\" % J(w_dim1.T.dot(male_data), w_dim1.T.dot(female_data), w_dim1.T.dot(w_dim1))\n",
    "print \"  * MI: %.5f\" % J(w_dim1.T.dot(male_data), w_dim1.T.dot(infant_data), w_dim1.T.dot(w_dim1))\n",
    "print \"  * FI: %.5f\" % J(w_dim1.T.dot(female_data), w_dim1.T.dot(infant_data), w_dim1.T.dot(w_dim1))\n",
    "print \"Dimension2:\"\n",
    "print \"  * MF: %.5f\" % J(w_dim2.T.dot(male_data), w_dim2.T.dot(female_data), w_dim2.T.dot(w_dim2))\n",
    "print \"  * MI: %.5f\" % J(w_dim2.T.dot(male_data), w_dim2.T.dot(infant_data), w_dim2.T.dot(w_dim2))\n",
    "print \"  * FI: %.5f\" % J(w_dim2.T.dot(female_data), w_dim2.T.dot(infant_data), w_dim2.T.dot(w_dim2))\n",
    "print \"Dimension3:\"\n",
    "print \"  * MF: %.5f\" % J(w_dim3.T.dot(male_data), w_dim3.T.dot(female_data), w_dim3.T.dot(w_dim3))\n",
    "print \"  * MI: %.5f\" % J(w_dim3.T.dot(male_data), w_dim3.T.dot(infant_data), w_dim3.T.dot(w_dim3))\n",
    "print \"  * FI: %.5f\" % J(w_dim3.T.dot(female_data), w_dim3.T.dot(infant_data), w_dim3.T.dot(w_dim3))\n",
    "print \"Dimension4:\"\n",
    "print \"  * MF: %.5f\" % J(w_dim4.T.dot(male_data), w_dim4.T.dot(female_data), w_dim4.T.dot(w_dim4))\n",
    "print \"  * MI: %.5f\" % J(w_dim4.T.dot(male_data), w_dim4.T.dot(infant_data), w_dim4.T.dot(w_dim4))\n",
    "print \"  * FI: %.5f\" % J(w_dim4.T.dot(female_data), w_dim4.T.dot(infant_data), w_dim4.T.dot(w_dim4))\n",
    "print \"Dimension5:\"\n",
    "print \"  * MF: %.5f\" % J(w_dim5.T.dot(male_data), w_dim5.T.dot(female_data), w_dim5.T.dot(w_dim5))\n",
    "print \"  * MI: %.5f\" % J(w_dim5.T.dot(male_data), w_dim5.T.dot(infant_data), w_dim5.T.dot(w_dim5))\n",
    "print \"  * FI: %.5f\" % J(w_dim5.T.dot(female_data), w_dim5.T.dot(infant_data), w_dim5.T.dot(w_dim5))\n",
    "print \"Dimension6:\"\n",
    "print \"  * MF: %.5f\" % J(w_dim6.T.dot(male_data), w_dim6.T.dot(female_data), w_dim6.T.dot(w_dim6))\n",
    "print \"  * MI: %.5f\" % J(w_dim6.T.dot(male_data), w_dim6.T.dot(infant_data), w_dim6.T.dot(w_dim6))\n",
    "print \"  * FI: %.5f\" % J(w_dim6.T.dot(female_data), w_dim6.T.dot(infant_data), w_dim6.T.dot(w_dim6))\n",
    "\n",
    "print \"---------------------------------------------------\"\n",
    "print \"Means Linear:\"\n",
    "print \"  * MF: %.5f\" % J(male_data, female_data, w_mean_diff_MF)\n",
    "print \"  * MI: %.5f\" % J(male_data, infant_data, w_mean_diff_MI)\n",
    "print \"  * FI: %.5f\" % J(female_data, infant_data, w_mean_diff_FI)\n",
    "\n",
    "print \"Means Quadratic:\"\n",
    "print \"  * MF: %.5f\" % J(expended_male_data, expended_female_data, expended_w_mean_diff_MF)\n",
    "print \"  * MI: %.5f\" % J(expended_male_data, expended_infant_data, expended_w_mean_diff_MI)\n",
    "print \"  * FI: %.5f\" % J(expended_female_data, expended_infant_data, expended_w_mean_diff_FI)\n",
    "\n",
    "print \"---------------------------------------------------\"\n",
    "print \"Fisher Linear:\"\n",
    "print \"  * MF: %.5f\" % J(male_data, female_data, w_fisher_MF)\n",
    "print \"  * MI: %.5f\" % J(male_data, infant_data, w_fisher_MI)\n",
    "print \"  * FI: %.5f\" % J(female_data, infant_data, w_fisher_FI)\n",
    "\n",
    "\n",
    "print \"Fisher Quadratic:\"\n",
    "print \"  * MF: %.5f\" % J(expended_male_data, expended_female_data, expended_w_fisher_MF)\n",
    "print \"  * MI: %.5f\" % J(expended_male_data, expended_infant_data, expended_w_fisher_MI)\n",
    "print \"  * FI: %.5f\" % J(expended_female_data, expended_infant_data, expended_w_fisher_FI)\n",
    "\n",
    "abalone.plot(w_fisher_MF, \"projection on a MF direction\")\n",
    "abalone.plot(w_fisher_MI, \"projection on a MI direction\")\n",
    "abalone.plot(w_fisher_FI, \"projection on a FI direction\")"
   ]
  },
  {
   "cell_type": "code",
   "execution_count": null,
   "metadata": {
    "collapsed": true
   },
   "outputs": [],
   "source": []
  }
 ],
 "metadata": {
  "kernelspec": {
   "display_name": "Python 2",
   "language": "python",
   "name": "python2"
  },
  "language_info": {
   "codemirror_mode": {
    "name": "ipython",
    "version": 2
   },
   "file_extension": ".py",
   "mimetype": "text/x-python",
   "name": "python",
   "nbconvert_exporter": "python",
   "pygments_lexer": "ipython2",
   "version": "2.7.14"
  }
 },
 "nbformat": 4,
 "nbformat_minor": 1
}
